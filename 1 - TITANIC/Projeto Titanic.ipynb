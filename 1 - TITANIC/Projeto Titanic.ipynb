{
 "cells": [
  {
   "cell_type": "markdown",
   "id": "c328153e-9255-40cd-8249-95a6b843c12f",
   "metadata": {
    "jp-MarkdownHeadingCollapsed": true
   },
   "source": [
    "<h1 style=\"text-align: center;\">\n",
    "    O NAUFRÁGIO DO TITANIC – Uma Trágica História de Inovação e Perda\n",
    "</h1>\n",
    "\n",
    "\n",
    "<div style=\"text-align: center;\">\n",
    "    <img src=\"https://ichef.bbci.co.uk/ace/ws/800/cpsprodpb/17F4E/production/_124162189_gettyimages-1371405694.jpg.webp\" alt=\"Titanic\" width=\"1000\" height=\"50\"/>\n",
    "</div>\n",
    "\n",
    "\n",
    "**CONTEXTUALIZANDO**\n",
    "\n",
    "> O RMS Titanic foi um **navio de passageiros** britânico que foi considerado, na época de sua construção, um dos **maiores e mais luxuosos transatlânticos do mundo.** Ele foi projetado para ser **inafundável**, com compartimentos estanques que, teoricamente, impediriam que o navio afundasse em caso de danos. A construção do Titanic foi feita pela Harland and Wolff, em Belfast, e sua inauguração foi recebida com grande entusiasmo.\n",
    ">\n",
    "> O Titanic partiu de Southampton, na Inglaterra, em sua viagem inaugural para Nova York, nos Estados Unidos, em 10 de abril de 1912. O navio tinha uma **capacidade para mais de 2.200 pessoas**, incluindo **passageiros de primeira, segunda e terceira classes, além da tripulação**.\n",
    ">\n",
    "> No entanto, na noite de 14 de abril de 1912, durante sua viagem pelo Atlântico Norte, o **Titanic colidiu com um iceberg**. A colisão causou **danos fatais** ao casco do navio, o que resultou em uma inundação rápida e descontrolada dos compartimentos abaixo do convés.\n",
    ">\n",
    "> O navio afundou nas primeiras horas de 15 de abril de 1912, em uma das maiores tragédias marítimas da história. **Aproximadamente 1.500 pessoas perderam suas vidas**, incluindo passageiros e membros da tripulação. A **falta de botes salva-vidas suficientes**, as **baixas temperaturas da água** e o **pânico generalizado** contribuíram para a alta mortalidade.\n",
    ">\n",
    "> O desastre gerou uma enorme comoção global e resultou em mudanças nas regulamentações de segurança para embarcações, como a exigência de mais botes salva-vidas e a criação de protocolos de segurança mais rigorosos.\n",
    ">\n",
    "> Hoje, o Titanic é **lembrado tanto como um símbolo da inovação da época quanto como um lembrete das falhas humanas e das limitações da tecnologia**. O evento inspirou livros, filmes e inúmeras pesquisas científicas, além de um legado duradouro sobre segurança marítima.\n",
    "\n",
    "\n",
    "**OBJETIVO**\n",
    "\n",
    "\n",
    "> Portanto, o **`objetivo`** deste projeto é prever se um passageiro sobreviveu ou não ao naufrágio do Titanic baseado nas características dos passageiros que embarcaram no Navio. **`Pergunta Central:`** Como podemos prever a sobrevivência dos passageiros no Titanic utilizando as variáveis disponíveis no dataset?"
   ]
  },
  {
   "cell_type": "markdown",
   "id": "c9400a25-bdc1-4714-96fd-f4b710fec541",
   "metadata": {},
   "source": [
    "### 📊 **Entendimento dos Dados**  \n",
    "\n",
    "Nesta etapa, exploramos o conjunto de dados do Titanic para compreender suas características e estrutura. Essa análise inicial foi fundamental para direcionar as decisões na preparação dos dados e no desenvolvimento do modelo."
   ]
  },
  {
   "cell_type": "markdown",
   "id": "d099d069-6995-46d4-be88-49854c930390",
   "metadata": {},
   "source": [
    "| Variáveis    | Definição                                        | Chave                                      |\n",
    "|-------------|------------------------------------------------|-------------------------------------------|\n",
    "| Survival    | Sobreviventes                                   | 0 = No, 1 = Yes                          |\n",
    "| PassengerId | Apenas o número da linha                      |                                           |\n",
    "| Pclass      | A classe do Ticket                            | 1 = 1st, 2 = 2nd, 3 = 3rd                 |\n",
    "| Name        | Nome do passageiro                            |                                           |\n",
    "| Sex         | Gênero                                        |                                           |\n",
    "| Age         | Idade em anos                                 |                                           |\n",
    "| SibSp       | Número de irmãos / Cônjuge a bordo do Titanic |                                           |\n",
    "| Parch       | Número de pais / crianças a bordo do Titanic |                                           |\n",
    "| Ticket      | Número do Ticket                             |                                           |\n",
    "| Fare        | Tarifa do Passageiro                         |                                           |\n",
    "| Cabin       | Número da Cabine                             |                                           |\n",
    "| Embarked    | Porto do Embarque                            | C = Cherbourg, Q = Queenstown, S = Southampton |"
   ]
  },
  {
   "cell_type": "code",
   "execution_count": 1,
   "id": "d5dd6665-1d72-4d13-afcc-7bea3fdca7b4",
   "metadata": {},
   "outputs": [
    {
     "data": {
      "text/html": [
       "<div>\n",
       "<style scoped>\n",
       "    .dataframe tbody tr th:only-of-type {\n",
       "        vertical-align: middle;\n",
       "    }\n",
       "\n",
       "    .dataframe tbody tr th {\n",
       "        vertical-align: top;\n",
       "    }\n",
       "\n",
       "    .dataframe thead th {\n",
       "        text-align: right;\n",
       "    }\n",
       "</style>\n",
       "<table border=\"1\" class=\"dataframe\">\n",
       "  <thead>\n",
       "    <tr style=\"text-align: right;\">\n",
       "      <th></th>\n",
       "      <th>PassengerId</th>\n",
       "      <th>Survived</th>\n",
       "      <th>Pclass</th>\n",
       "      <th>Name</th>\n",
       "      <th>Sex</th>\n",
       "      <th>Age</th>\n",
       "      <th>SibSp</th>\n",
       "      <th>Parch</th>\n",
       "      <th>Ticket</th>\n",
       "      <th>Fare</th>\n",
       "      <th>Cabin</th>\n",
       "      <th>Embarked</th>\n",
       "    </tr>\n",
       "  </thead>\n",
       "  <tbody>\n",
       "    <tr>\n",
       "      <th>0</th>\n",
       "      <td>1</td>\n",
       "      <td>0</td>\n",
       "      <td>3</td>\n",
       "      <td>Braund, Mr. Owen Harris</td>\n",
       "      <td>male</td>\n",
       "      <td>22.0</td>\n",
       "      <td>1</td>\n",
       "      <td>0</td>\n",
       "      <td>A/5 21171</td>\n",
       "      <td>7.2500</td>\n",
       "      <td>NaN</td>\n",
       "      <td>S</td>\n",
       "    </tr>\n",
       "    <tr>\n",
       "      <th>1</th>\n",
       "      <td>2</td>\n",
       "      <td>1</td>\n",
       "      <td>1</td>\n",
       "      <td>Cumings, Mrs. John Bradley (Florence Briggs Th...</td>\n",
       "      <td>female</td>\n",
       "      <td>38.0</td>\n",
       "      <td>1</td>\n",
       "      <td>0</td>\n",
       "      <td>PC 17599</td>\n",
       "      <td>71.2833</td>\n",
       "      <td>C85</td>\n",
       "      <td>C</td>\n",
       "    </tr>\n",
       "    <tr>\n",
       "      <th>2</th>\n",
       "      <td>3</td>\n",
       "      <td>1</td>\n",
       "      <td>3</td>\n",
       "      <td>Heikkinen, Miss. Laina</td>\n",
       "      <td>female</td>\n",
       "      <td>26.0</td>\n",
       "      <td>0</td>\n",
       "      <td>0</td>\n",
       "      <td>STON/O2. 3101282</td>\n",
       "      <td>7.9250</td>\n",
       "      <td>NaN</td>\n",
       "      <td>S</td>\n",
       "    </tr>\n",
       "    <tr>\n",
       "      <th>3</th>\n",
       "      <td>4</td>\n",
       "      <td>1</td>\n",
       "      <td>1</td>\n",
       "      <td>Futrelle, Mrs. Jacques Heath (Lily May Peel)</td>\n",
       "      <td>female</td>\n",
       "      <td>35.0</td>\n",
       "      <td>1</td>\n",
       "      <td>0</td>\n",
       "      <td>113803</td>\n",
       "      <td>53.1000</td>\n",
       "      <td>C123</td>\n",
       "      <td>S</td>\n",
       "    </tr>\n",
       "    <tr>\n",
       "      <th>4</th>\n",
       "      <td>5</td>\n",
       "      <td>0</td>\n",
       "      <td>3</td>\n",
       "      <td>Allen, Mr. William Henry</td>\n",
       "      <td>male</td>\n",
       "      <td>35.0</td>\n",
       "      <td>0</td>\n",
       "      <td>0</td>\n",
       "      <td>373450</td>\n",
       "      <td>8.0500</td>\n",
       "      <td>NaN</td>\n",
       "      <td>S</td>\n",
       "    </tr>\n",
       "  </tbody>\n",
       "</table>\n",
       "</div>"
      ],
      "text/plain": [
       "   PassengerId  Survived  Pclass  \\\n",
       "0            1         0       3   \n",
       "1            2         1       1   \n",
       "2            3         1       3   \n",
       "3            4         1       1   \n",
       "4            5         0       3   \n",
       "\n",
       "                                                Name     Sex   Age  SibSp  \\\n",
       "0                            Braund, Mr. Owen Harris    male  22.0      1   \n",
       "1  Cumings, Mrs. John Bradley (Florence Briggs Th...  female  38.0      1   \n",
       "2                             Heikkinen, Miss. Laina  female  26.0      0   \n",
       "3       Futrelle, Mrs. Jacques Heath (Lily May Peel)  female  35.0      1   \n",
       "4                           Allen, Mr. William Henry    male  35.0      0   \n",
       "\n",
       "   Parch            Ticket     Fare Cabin Embarked  \n",
       "0      0         A/5 21171   7.2500   NaN        S  \n",
       "1      0          PC 17599  71.2833   C85        C  \n",
       "2      0  STON/O2. 3101282   7.9250   NaN        S  \n",
       "3      0            113803  53.1000  C123        S  \n",
       "4      0            373450   8.0500   NaN        S  "
      ]
     },
     "execution_count": 1,
     "metadata": {},
     "output_type": "execute_result"
    }
   ],
   "source": [
    "# Importando a biblioteca pandas e nomeando-a de pd\n",
    "import pandas as pd\n",
    "import numpy as np\n",
    "\n",
    "# Lendo as bases de treinamento\n",
    "treinamento = pd.read_csv('train.csv')\n",
    "\n",
    "# Viazualizando a base de treinamento\n",
    "treinamento.head()"
   ]
  },
  {
   "cell_type": "code",
   "execution_count": 2,
   "id": "ec0fff7b-d405-4539-8887-bd1826ced333",
   "metadata": {},
   "outputs": [
    {
     "data": {
      "text/html": [
       "<div>\n",
       "<style scoped>\n",
       "    .dataframe tbody tr th:only-of-type {\n",
       "        vertical-align: middle;\n",
       "    }\n",
       "\n",
       "    .dataframe tbody tr th {\n",
       "        vertical-align: top;\n",
       "    }\n",
       "\n",
       "    .dataframe thead th {\n",
       "        text-align: right;\n",
       "    }\n",
       "</style>\n",
       "<table border=\"1\" class=\"dataframe\">\n",
       "  <thead>\n",
       "    <tr style=\"text-align: right;\">\n",
       "      <th></th>\n",
       "      <th>PassengerId</th>\n",
       "      <th>Pclass</th>\n",
       "      <th>Name</th>\n",
       "      <th>Sex</th>\n",
       "      <th>Age</th>\n",
       "      <th>SibSp</th>\n",
       "      <th>Parch</th>\n",
       "      <th>Ticket</th>\n",
       "      <th>Fare</th>\n",
       "      <th>Cabin</th>\n",
       "      <th>Embarked</th>\n",
       "    </tr>\n",
       "  </thead>\n",
       "  <tbody>\n",
       "    <tr>\n",
       "      <th>0</th>\n",
       "      <td>892</td>\n",
       "      <td>3</td>\n",
       "      <td>Kelly, Mr. James</td>\n",
       "      <td>male</td>\n",
       "      <td>34.5</td>\n",
       "      <td>0</td>\n",
       "      <td>0</td>\n",
       "      <td>330911</td>\n",
       "      <td>7.8292</td>\n",
       "      <td>NaN</td>\n",
       "      <td>Q</td>\n",
       "    </tr>\n",
       "    <tr>\n",
       "      <th>1</th>\n",
       "      <td>893</td>\n",
       "      <td>3</td>\n",
       "      <td>Wilkes, Mrs. James (Ellen Needs)</td>\n",
       "      <td>female</td>\n",
       "      <td>47.0</td>\n",
       "      <td>1</td>\n",
       "      <td>0</td>\n",
       "      <td>363272</td>\n",
       "      <td>7.0000</td>\n",
       "      <td>NaN</td>\n",
       "      <td>S</td>\n",
       "    </tr>\n",
       "    <tr>\n",
       "      <th>2</th>\n",
       "      <td>894</td>\n",
       "      <td>2</td>\n",
       "      <td>Myles, Mr. Thomas Francis</td>\n",
       "      <td>male</td>\n",
       "      <td>62.0</td>\n",
       "      <td>0</td>\n",
       "      <td>0</td>\n",
       "      <td>240276</td>\n",
       "      <td>9.6875</td>\n",
       "      <td>NaN</td>\n",
       "      <td>Q</td>\n",
       "    </tr>\n",
       "    <tr>\n",
       "      <th>3</th>\n",
       "      <td>895</td>\n",
       "      <td>3</td>\n",
       "      <td>Wirz, Mr. Albert</td>\n",
       "      <td>male</td>\n",
       "      <td>27.0</td>\n",
       "      <td>0</td>\n",
       "      <td>0</td>\n",
       "      <td>315154</td>\n",
       "      <td>8.6625</td>\n",
       "      <td>NaN</td>\n",
       "      <td>S</td>\n",
       "    </tr>\n",
       "    <tr>\n",
       "      <th>4</th>\n",
       "      <td>896</td>\n",
       "      <td>3</td>\n",
       "      <td>Hirvonen, Mrs. Alexander (Helga E Lindqvist)</td>\n",
       "      <td>female</td>\n",
       "      <td>22.0</td>\n",
       "      <td>1</td>\n",
       "      <td>1</td>\n",
       "      <td>3101298</td>\n",
       "      <td>12.2875</td>\n",
       "      <td>NaN</td>\n",
       "      <td>S</td>\n",
       "    </tr>\n",
       "  </tbody>\n",
       "</table>\n",
       "</div>"
      ],
      "text/plain": [
       "   PassengerId  Pclass                                          Name     Sex  \\\n",
       "0          892       3                              Kelly, Mr. James    male   \n",
       "1          893       3              Wilkes, Mrs. James (Ellen Needs)  female   \n",
       "2          894       2                     Myles, Mr. Thomas Francis    male   \n",
       "3          895       3                              Wirz, Mr. Albert    male   \n",
       "4          896       3  Hirvonen, Mrs. Alexander (Helga E Lindqvist)  female   \n",
       "\n",
       "    Age  SibSp  Parch   Ticket     Fare Cabin Embarked  \n",
       "0  34.5      0      0   330911   7.8292   NaN        Q  \n",
       "1  47.0      1      0   363272   7.0000   NaN        S  \n",
       "2  62.0      0      0   240276   9.6875   NaN        Q  \n",
       "3  27.0      0      0   315154   8.6625   NaN        S  \n",
       "4  22.0      1      1  3101298  12.2875   NaN        S  "
      ]
     },
     "execution_count": 2,
     "metadata": {},
     "output_type": "execute_result"
    }
   ],
   "source": [
    "# Lendo as bases de teste \n",
    "teste = pd.read_csv('test.csv')\n",
    "\n",
    "# Vizualizando a base de teste\n",
    "teste.head()"
   ]
  },
  {
   "cell_type": "code",
   "execution_count": 3,
   "id": "a27ad41b-dafe-45a4-b408-52c4580325e0",
   "metadata": {},
   "outputs": [
    {
     "name": "stdout",
     "output_type": "stream",
     "text": [
      "<class 'pandas.core.frame.DataFrame'>\n",
      "RangeIndex: 891 entries, 0 to 890\n",
      "Data columns (total 12 columns):\n",
      " #   Column       Non-Null Count  Dtype  \n",
      "---  ------       --------------  -----  \n",
      " 0   PassengerId  891 non-null    int64  \n",
      " 1   Survived     891 non-null    int64  \n",
      " 2   Pclass       891 non-null    int64  \n",
      " 3   Name         891 non-null    object \n",
      " 4   Sex          891 non-null    object \n",
      " 5   Age          714 non-null    float64\n",
      " 6   SibSp        891 non-null    int64  \n",
      " 7   Parch        891 non-null    int64  \n",
      " 8   Ticket       891 non-null    object \n",
      " 9   Fare         891 non-null    float64\n",
      " 10  Cabin        204 non-null    object \n",
      " 11  Embarked     889 non-null    object \n",
      "dtypes: float64(2), int64(5), object(5)\n",
      "memory usage: 83.7+ KB\n"
     ]
    }
   ],
   "source": [
    "# Vizualizando as info da tabela de trainamento\n",
    "treinamento.info()"
   ]
  },
  {
   "cell_type": "markdown",
   "id": "6f9f5d8b-fb1d-4ae3-8147-2fd88e118efd",
   "metadata": {},
   "source": [
    ">Na tabela de treinamento temos 177 dados faltantes na coluna idade. O que representa aproximadamente 20% de dados missing. Desnte modo não dá para apenas excluir essa linhas no tratamento.\n",
    "\n",
    ">Temos dados Faltantes na coluna Cabine, mas não é uma coluna que pretendo usar. Portanto, não farei nenhum tratamento nesta coluna.\n",
    "\n",
    ">Tem dois dados missing em 'Embarked', mas como também não é uma coluna que pretendo utilizar, não vou fazer nenhum tratamento em relação a ela. "
   ]
  },
  {
   "cell_type": "code",
   "execution_count": 4,
   "id": "b9e2109e-0a41-439f-aedd-27f0043d1cd6",
   "metadata": {},
   "outputs": [
    {
     "name": "stdout",
     "output_type": "stream",
     "text": [
      "<class 'pandas.core.frame.DataFrame'>\n",
      "RangeIndex: 418 entries, 0 to 417\n",
      "Data columns (total 11 columns):\n",
      " #   Column       Non-Null Count  Dtype  \n",
      "---  ------       --------------  -----  \n",
      " 0   PassengerId  418 non-null    int64  \n",
      " 1   Pclass       418 non-null    int64  \n",
      " 2   Name         418 non-null    object \n",
      " 3   Sex          418 non-null    object \n",
      " 4   Age          332 non-null    float64\n",
      " 5   SibSp        418 non-null    int64  \n",
      " 6   Parch        418 non-null    int64  \n",
      " 7   Ticket       418 non-null    object \n",
      " 8   Fare         417 non-null    float64\n",
      " 9   Cabin        91 non-null     object \n",
      " 10  Embarked     418 non-null    object \n",
      "dtypes: float64(2), int64(4), object(5)\n",
      "memory usage: 36.1+ KB\n"
     ]
    }
   ],
   "source": [
    "# Vizualizando as info da tabela de teste\n",
    "teste.info()"
   ]
  },
  {
   "cell_type": "markdown",
   "id": "e02ab86a-8a35-4226-85f7-6ae13eca1a5f",
   "metadata": {},
   "source": [
    ">Aqui temos a mesmas questões para a coluna 'Cabin' e 'Age'."
   ]
  },
  {
   "cell_type": "markdown",
   "id": "769a9c43-8c64-4583-b949-b71f4aa3f830",
   "metadata": {},
   "source": [
    "Sinto a necessidade de criar novas features, como: \n",
    "- Tamanho da família: SibSp + Parch + 1 (O próprio passageiro);\n",
    "- Está sozinho: Indicador se o passageiro estava sozinho (Tamnho da família = 1)\n",
    "- Grupo da idade = Categorizar a idade em grupos (Criança, Adulto, Idoso)"
   ]
  },
  {
   "cell_type": "markdown",
   "id": "216570af-87b9-4e35-92d3-4ffa28658c4d",
   "metadata": {},
   "source": [
    "### 📊 **Preparação dos Dados**  \n",
    "\n",
    "Na etapa de preparação dos dados, realizamos o tratamento das variáveis para garantir que o modelo receba informações de qualidade. As principais etapas incluíram:  \n",
    "\n",
    "- **Lidar com valores ausentes:** Preenchimento ou remoção de dados faltantes conforme necessário.  \n",
    "- **Codificação de variáveis categóricas:** Conversão de dados categóricos para um formato numérico adequado ao modelo.  \n",
    "- **Criação de novas features:** Implementação de atributos derivados, como a categorização da idade.  \n",
    "\n",
    "Essa fase foi essencial para garantir que o modelo operasse com dados limpos e bem estruturados."
   ]
  },
  {
   "cell_type": "code",
   "execution_count": 5,
   "id": "2f02686d-99c8-4dec-a047-e464e5cee260",
   "metadata": {},
   "outputs": [],
   "source": [
    "# 1. Criar a variável 'Family Size'\n",
    "teste['Family_Size'] = teste['SibSp'] + teste['Parch'] + 1  # +1 para incluir o próprio passageiro\n",
    "treinamento['Family_Size'] = treinamento['SibSp'] + treinamento['Parch'] + 1  # +1 para incluir o próprio passageiro"
   ]
  },
  {
   "cell_type": "code",
   "execution_count": 6,
   "id": "d58d1cdf-80ca-44d7-bd95-e3960f9b12c0",
   "metadata": {},
   "outputs": [],
   "source": [
    "# 2. Criar a variável 'está sozinho'\n",
    "teste['Is_Alone'] = (teste['Family_Size'] == 1).astype(int)  # 1 se estiver sozinho, 0 caso contrário\n",
    "treinamento['Is_Alone'] = (treinamento['Family_Size'] == 1).astype(int)  # 1 se estiver sozinho, 0 caso contrário"
   ]
  },
  {
   "cell_type": "code",
   "execution_count": 7,
   "id": "6d270280-5f31-4d20-ad3d-3d0813628585",
   "metadata": {},
   "outputs": [],
   "source": [
    "# 3. Criar a variável 'Is_Child' (Indicador se é criança)\n",
    "def is_child(age):\n",
    "    if age < 18:\n",
    "        return 1  # Criança\n",
    "    else:\n",
    "        return 0  # Não Criança\n",
    "\n",
    "# Aplicando a função para criar a coluna 'Is_Child'\n",
    "teste['Is_Child'] = teste['Age'].apply(is_child)\n",
    "treinamento['Is_Child'] = treinamento['Age'].apply(is_child)"
   ]
  },
  {
   "cell_type": "code",
   "execution_count": 8,
   "id": "6ce81e2b-91c1-4d04-96dd-5d78c776d863",
   "metadata": {},
   "outputs": [],
   "source": [
    "# Aplicando uma mediana por classe nos dados faltantes na coluna idade \n",
    "treinamento['Age'] = treinamento.groupby('Pclass')['Age'].transform(lambda x: x.fillna(x.median()))\n",
    "teste['Age'] = teste.groupby('Pclass')['Age'].transform(lambda x: x.fillna(x.median()))"
   ]
  },
  {
   "cell_type": "code",
   "execution_count": 9,
   "id": "034106b6-53eb-4ee0-adab-59ed03b7a9c6",
   "metadata": {},
   "outputs": [],
   "source": [
    "# Importando funções\n",
    "from sklearn.model_selection import train_test_split\n",
    "from sklearn.ensemble import RandomForestClassifier\n",
    "from sklearn.metrics import accuracy_score, precision_score, recall_score, f1_score, confusion_matrix\n",
    "from imblearn.over_sampling import SMOTE\n",
    "from sklearn.model_selection import cross_val_score\n",
    "\n",
    "# Definindo a features e target\n",
    "y = treinamento['Survived']\n",
    "features = ['Pclass', 'Fare', 'Sex','Family_Size']\n",
    "X = pd.get_dummies(treinamento[features], drop_first = True)\n",
    "\n",
    "# Separando treino (70%) e validação (30%) dentro do dataset de treinamento\n",
    "X_train, X_valid, y_train, y_valid = train_test_split(X, y, test_size = 0.3, random_state = 1)"
   ]
  },
  {
   "cell_type": "markdown",
   "id": "e07b0998-71c7-4dc2-bc5b-9c3108d9e5ae",
   "metadata": {},
   "source": [
    "### 🏗️ **Modelagem**  \n",
    "\n",
    "Na etapa de modelagem, escolhi o algoritmo **Random Forest Classifier** para construir nosso modelo preditivo. Ajustamos os hiperparâmetros para otimizar o desempenho e garantir um bom equilíbrio entre **viés e variância**.  \n",
    "\n",
    "Treinei o modelo utilizando os dados processados e realizei os testes para avaliar sua capacidade de generalização. Além disso, aplicamos técnicas como ajuste de hiperparâmetros e balanceamento de classes para melhorar a qualidade das previsões."
   ]
  },
  {
   "cell_type": "code",
   "execution_count": 10,
   "id": "9d611220-30f3-4035-91a5-802c49bb1283",
   "metadata": {},
   "outputs": [],
   "source": [
    "# Parâmetros ajustados\n",
    "parâmetros = {'max_depth': 2, 'min_samples_leaf': 15, 'min_samples_split': 15, 'n_estimators': 100}\n",
    "\n",
    "# Modelo\n",
    "modelo = RandomForestClassifier(**parâmetros, random_state=1, class_weight={0: 1, 1: 2}) \n",
    "\n",
    "# Treinar o modelo\n",
    "modelo.fit(X_train, y_train)\n",
    "\n",
    "# Previsões no conjunto de treino\n",
    "y_train_pred = modelo.predict(X_train)"
   ]
  },
  {
   "cell_type": "markdown",
   "id": "47d19aa4-91e6-444d-8bf8-1f1b5f8422b4",
   "metadata": {},
   "source": [
    ">Como existem menos sobreviventes do que não sobreviventes, foi necessário fazer o uso do parâmetro 'class_wight' para balancear. "
   ]
  },
  {
   "cell_type": "markdown",
   "id": "bfc6e609-73d3-4238-9f1d-213cd5937648",
   "metadata": {},
   "source": [
    "### 📊 **Avaliação do Modelo**  \n",
    "\n",
    "Na etapa de avaliação, analisamos o desempenho do modelo utilizando métricas como **acurácia, precisão, recall e F1-score**. Além disso, observamos a **matriz de confusão** para entender melhor os erros de classificação.  \n",
    "\n",
    "Avaliamos tanto o conjunto de treino quanto o de validação para garantir que o modelo não esteja superajustado (overfitting) ou subajustado (underfitting). Caso necessário, realizamos ajustes nos hiperparâmetros para melhorar a generalização e obter um equilíbrio entre viés e variância."
   ]
  },
  {
   "cell_type": "code",
   "execution_count": 11,
   "id": "192a8170-d94e-4c66-b74f-61bbca7cdf21",
   "metadata": {},
   "outputs": [
    {
     "name": "stdout",
     "output_type": "stream",
     "text": [
      "Desempenho no conjunto de treino:\n",
      "Acurácia: 0.7945\n",
      "Precisão: 0.7089\n",
      "Recall: 0.7401\n",
      "F1-Score: 0.7241\n",
      "Matriz de Confusão:\n",
      "[[327  69]\n",
      " [ 59 168]]\n",
      "\n",
      "Desempenho no conjunto de validação:\n",
      "Acurácia: 0.7612\n",
      "Precisão: 0.7297\n",
      "Recall: 0.7043\n",
      "F1-Score: 0.7168\n",
      "Matriz de Confusão:\n",
      "[[123  30]\n",
      " [ 34  81]]\n"
     ]
    }
   ],
   "source": [
    "#importando funções\n",
    "from sklearn.metrics import accuracy_score, precision_score, recall_score, f1_score, confusion_matrix\n",
    "\n",
    "# Previsões no conjunto de validação\n",
    "y_val_pred = modelo.predict(X_valid)\n",
    "\n",
    "# Avaliando o desempenho no conjunto de treino\n",
    "accuracy_train = accuracy_score(y_train, y_train_pred)\n",
    "precision_train = precision_score(y_train, y_train_pred)\n",
    "recall_train = recall_score(y_train, y_train_pred)\n",
    "f1_train = f1_score(y_train, y_train_pred)\n",
    "confusion_train = confusion_matrix(y_train, y_train_pred)\n",
    "\n",
    "# Avaliando o desempenho no conjunto de validação\n",
    "accuracy_val = accuracy_score(y_valid, y_val_pred)\n",
    "precision_val = precision_score(y_valid, y_val_pred)\n",
    "recall_val = recall_score(y_valid, y_val_pred)\n",
    "f1_val = f1_score(y_valid, y_val_pred)\n",
    "confusion_val = confusion_matrix(y_valid, y_val_pred)\n",
    "\n",
    "# Exibindo os resultados\n",
    "print(\"Desempenho no conjunto de treino:\")\n",
    "print(f\"Acurácia: {accuracy_train:.4f}\")\n",
    "print(f\"Precisão: {precision_train:.4f}\")\n",
    "print(f\"Recall: {recall_train:.4f}\")\n",
    "print(f\"F1-Score: {f1_train:.4f}\")\n",
    "print(f\"Matriz de Confusão:\\n{confusion_train}\\n\")\n",
    "\n",
    "print(\"Desempenho no conjunto de validação:\")\n",
    "print(f\"Acurácia: {accuracy_val:.4f}\")\n",
    "print(f\"Precisão: {precision_val:.4f}\")\n",
    "print(f\"Recall: {recall_val:.4f}\")\n",
    "print(f\"F1-Score: {f1_val:.4f}\")\n",
    "print(f\"Matriz de Confusão:\\n{confusion_val}\")"
   ]
  },
  {
   "cell_type": "markdown",
   "id": "b09d4460-b96a-491b-9f50-b828b64f24d9",
   "metadata": {},
   "source": [
    ">Após fazer diversas alterações no código, este foi o melhor depenho que eu conseguir para as bases de treinamento de validação. "
   ]
  },
  {
   "cell_type": "code",
   "execution_count": 12,
   "id": "6a56fda0-536d-4606-a288-a25fbd3fc28e",
   "metadata": {},
   "outputs": [
    {
     "name": "stdout",
     "output_type": "stream",
     "text": [
      "Fitting 5 folds for each of 81 candidates, totalling 405 fits\n",
      "Melhores parâmetros: {'max_depth': 10, 'min_samples_leaf': 4, 'min_samples_split': 2, 'n_estimators': 50}\n",
      "Desempenho no conjunto de validação:\n"
     ]
    }
   ],
   "source": [
    "# Importando funções\n",
    "from sklearn.model_selection import GridSearchCV\n",
    "from sklearn.ensemble import RandomForestClassifier\n",
    "\n",
    "# Definindo o grid de parâmetros\n",
    "param_grid = {\n",
    "    'n_estimators': [50, 100, 200],  # Número de árvores\n",
    "    'max_depth': [5, 10, 20],  # Profundidade máxima das árvores\n",
    "    'min_samples_split': [2, 5, 10],  # Número mínimo de amostras para dividir um nó\n",
    "    'min_samples_leaf': [1, 2, 4],  # Número mínimo de amostras para ser uma folha\n",
    "}\n",
    "\n",
    "# Configuração da busca em grid\n",
    "grid_search = GridSearchCV(\n",
    "    estimator=RandomForestClassifier(random_state=1, class_weight='balanced'),  # Classificador RandomForest com peso ajustado\n",
    "    param_grid=param_grid,\n",
    "    cv=5,  # Aumentando para 5 folds para uma avaliação mais robusta\n",
    "    n_jobs=-1,  # Usar todos os núcleos do processador\n",
    "    verbose=2,  # Para acompanhar o progresso da busca\n",
    "    scoring='f1',  # Focando no F1-Score, adequado para problemas desequilibrados\n",
    "    refit=True  # Ajustar o modelo com os melhores parâmetros encontrados\n",
    ")\n",
    "\n",
    "# Treinando o modelo com a busca em grid\n",
    "grid_search.fit(X_train, y_train)\n",
    "\n",
    "# Exibindo os melhores parâmetros encontrados\n",
    "print(\"Melhores parâmetros:\", grid_search.best_params_)\n",
    "\n",
    "# Exibindo o melhor modelo\n",
    "best_model = grid_search.best_estimator_\n",
    "\n",
    "# Avaliar o modelo no conjunto de validação\n",
    "y_pred = best_model.predict(X_valid)\n",
    "print(\"Desempenho no conjunto de validação:\")"
   ]
  },
  {
   "cell_type": "markdown",
   "id": "d63f7ad5-a9e9-46c6-8170-3580679f38a4",
   "metadata": {},
   "source": [
    ">Fiz o uso desse código para encontrar a melhor parametrização. No entanto, ao utilizar os parâmetros fornecidos, a base de treinamento se ajusta muito aos dados e os dados de validação acaba não depenhando tão bem quanto o de treinamento. O que demonstra claramente um overfiting."
   ]
  },
  {
   "cell_type": "code",
   "execution_count": 13,
   "id": "5cc4bd29-2517-4933-9b85-0b8605d91814",
   "metadata": {},
   "outputs": [
    {
     "name": "stdout",
     "output_type": "stream",
     "text": [
      "       Feature  Importance\n",
      "3     Sex_male    0.598284\n",
      "1         Fare    0.181787\n",
      "0       Pclass    0.169856\n",
      "2  Family_Size    0.050072\n"
     ]
    },
    {
     "data": {
      "image/png": "[encoded data removed]",
      "text/plain": [
       "<Figure size 1000x600 with 1 Axes>"
      ]
     },
     "metadata": {},
     "output_type": "display_data"
    }
   ],
   "source": [
    "import matplotlib.pyplot as plt\n",
    "\n",
    "# Obter a importância das features\n",
    "importances = modelo.feature_importances_\n",
    "\n",
    "# Criar um DataFrame para mostrar as features e suas importâncias\n",
    "feature_importance_df = pd.DataFrame({\n",
    "    'Feature': X_train.columns,\n",
    "    'Importance': importances\n",
    "})\n",
    "\n",
    "# Ordenar as features pela importância\n",
    "feature_importance_df = feature_importance_df.sort_values(by='Importance', ascending=False)\n",
    "\n",
    "# Visualizar as 10 features mais importantes\n",
    "print(feature_importance_df.head(10))\n",
    "\n",
    "# Plotando a importância das features\n",
    "plt.figure(figsize=(10, 6))\n",
    "plt.barh(feature_importance_df['Feature'], feature_importance_df['Importance'])\n",
    "plt.xlabel('Importância')\n",
    "plt.title('Importância das Features')\n",
    "plt.show()"
   ]
  },
  {
   "cell_type": "markdown",
   "id": "0cfb3827-7d8f-4d15-99f1-36d53231a753",
   "metadata": {},
   "source": [
    ">Aqui eu vizualizei quais features tinham mais importância e fui monitorando quais delas trariam um melhor desempenho para as bases de treinamento e validação. "
   ]
  },
  {
   "cell_type": "markdown",
   "id": "bcec2476-bbe1-45dd-9c1b-0c9f06762fee",
   "metadata": {},
   "source": [
    "### 🚀 **Implementação do Modelo**  \n",
    "\n",
    "Com o modelo devidamente treinado e validado, partimos para a fase de implementação. Nesta etapa, utilizamos o conjunto de teste para realizar previsões sobre a sobrevivência dos passageiros do Titanic. As previsões são armazenadas em um **arquivo CSV** formatado de acordo com os padrões do Kaggle, permitindo a submissão na plataforma.  \n",
    "\n",
    "A implementação garante que o pipeline esteja funcionando corretamente, aplicando o modelo treinado aos dados de teste e gerando uma saída pronta para avaliação. Assim, conseguimos medir o desempenho do nosso modelo em dados nunca antes vistos e compará-lo com outras soluções."
   ]
  },
  {
   "cell_type": "code",
   "execution_count": 14,
   "id": "29f049f8-ea3e-4a9c-84d6-41c207075da0",
   "metadata": {},
   "outputs": [
    {
     "data": {
      "text/html": [
       "<div>\n",
       "<style scoped>\n",
       "    .dataframe tbody tr th:only-of-type {\n",
       "        vertical-align: middle;\n",
       "    }\n",
       "\n",
       "    .dataframe tbody tr th {\n",
       "        vertical-align: top;\n",
       "    }\n",
       "\n",
       "    .dataframe thead th {\n",
       "        text-align: right;\n",
       "    }\n",
       "</style>\n",
       "<table border=\"1\" class=\"dataframe\">\n",
       "  <thead>\n",
       "    <tr style=\"text-align: right;\">\n",
       "      <th></th>\n",
       "      <th>PassengerId</th>\n",
       "      <th>Survived</th>\n",
       "    </tr>\n",
       "  </thead>\n",
       "  <tbody>\n",
       "    <tr>\n",
       "      <th>0</th>\n",
       "      <td>892</td>\n",
       "      <td>0</td>\n",
       "    </tr>\n",
       "    <tr>\n",
       "      <th>1</th>\n",
       "      <td>893</td>\n",
       "      <td>1</td>\n",
       "    </tr>\n",
       "    <tr>\n",
       "      <th>2</th>\n",
       "      <td>894</td>\n",
       "      <td>0</td>\n",
       "    </tr>\n",
       "    <tr>\n",
       "      <th>3</th>\n",
       "      <td>895</td>\n",
       "      <td>0</td>\n",
       "    </tr>\n",
       "    <tr>\n",
       "      <th>4</th>\n",
       "      <td>896</td>\n",
       "      <td>1</td>\n",
       "    </tr>\n",
       "  </tbody>\n",
       "</table>\n",
       "</div>"
      ],
      "text/plain": [
       "   PassengerId  Survived\n",
       "0          892         0\n",
       "1          893         1\n",
       "2          894         0\n",
       "3          895         0\n",
       "4          896         1"
      ]
     },
     "execution_count": 14,
     "metadata": {},
     "output_type": "execute_result"
    }
   ],
   "source": [
    "# Fazendo previsões no conjunto de teste\n",
    "X_test = pd.get_dummies(teste[features], drop_first=True)\n",
    "y_test_pred = modelo.predict(X_test)\n",
    "\n",
    "# Adicionando as previsões ao dataframe de teste\n",
    "teste['Survived'] = y_test_pred\n",
    "\n",
    "# Visualizando as primeiras previsões\n",
    "predicao = teste[['PassengerId', 'Survived']]\n",
    "\n",
    "predicao.head()"
   ]
  },
  {
   "cell_type": "code",
   "execution_count": 15,
   "id": "5fae8152-12f8-4727-9609-3adb75cdd0b9",
   "metadata": {},
   "outputs": [
    {
     "name": "stdout",
     "output_type": "stream",
     "text": [
      "✅ Arquivo 'submission.csv' gerado com sucesso!\n"
     ]
    }
   ],
   "source": [
    "# Criando o arquivo de submissão\n",
    "submission = pd.DataFrame({'PassengerId': predicao['PassengerId'], 'Survived': y_test_pred})\n",
    "submission.to_csv('submission.csv', index=False)\n",
    "\n",
    "print(\"✅ Arquivo 'submission.csv' gerado com sucesso!\")"
   ]
  }
 ],
 "metadata": {
  "kernelspec": {
   "display_name": "Python 3 (ipykernel)",
   "language": "python",
   "name": "python3"
  },
  "language_info": {
   "codemirror_mode": {
    "name": "ipython",
    "version": 3
   },
   "file_extension": ".py",
   "mimetype": "text/x-python",
   "name": "python",
   "nbconvert_exporter": "python",
   "pygments_lexer": "ipython3",
   "version": "3.12.7"
  }
 },
 "nbformat": 4,
 "nbformat_minor": 5
}
